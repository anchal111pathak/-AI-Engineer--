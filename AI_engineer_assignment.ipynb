{
  "nbformat": 4,
  "nbformat_minor": 0,
  "metadata": {
    "colab": {
      "provenance": []
    },
    "kernelspec": {
      "name": "python3",
      "display_name": "Python 3"
    },
    "language_info": {
      "name": "python"
    }
  },
  "cells": [
    {
      "cell_type": "code",
      "execution_count": 8,
      "metadata": {
        "colab": {
          "base_uri": "https://localhost:8080/"
        },
        "id": "slGuURPsqcs-",
        "outputId": "491c8aea-05dc-4f35-d81b-a9f7b2799271"
      },
      "outputs": [
        {
          "output_type": "stream",
          "name": "stdout",
          "text": [
            "Requirement already satisfied: nltk in /usr/local/lib/python3.10/dist-packages (3.8.1)\n",
            "Requirement already satisfied: click in /usr/local/lib/python3.10/dist-packages (from nltk) (8.1.7)\n",
            "Requirement already satisfied: joblib in /usr/local/lib/python3.10/dist-packages (from nltk) (1.4.2)\n",
            "Requirement already satisfied: regex>=2021.8.3 in /usr/local/lib/python3.10/dist-packages (from nltk) (2024.5.15)\n",
            "Requirement already satisfied: tqdm in /usr/local/lib/python3.10/dist-packages (from nltk) (4.66.4)\n"
          ]
        }
      ],
      "source": [
        "!pip install nltk\n"
      ]
    },
    {
      "cell_type": "code",
      "source": [
        "import nltk\n",
        "from nltk.sentiment import SentimentIntensityAnalyzer\n",
        "nltk.download('vader_lexicon')\n",
        "nltk.download('punkt')"
      ],
      "metadata": {
        "colab": {
          "base_uri": "https://localhost:8080/"
        },
        "id": "8tH1I5Nbqwxv",
        "outputId": "51d7c550-a2e1-468a-d0aa-93f356a27612"
      },
      "execution_count": 2,
      "outputs": [
        {
          "output_type": "stream",
          "name": "stderr",
          "text": [
            "[nltk_data] Downloading package vader_lexicon to /root/nltk_data...\n",
            "[nltk_data] Downloading package punkt to /root/nltk_data...\n",
            "[nltk_data]   Package punkt is already up-to-date!\n"
          ]
        },
        {
          "output_type": "execute_result",
          "data": {
            "text/plain": [
              "True"
            ]
          },
          "metadata": {},
          "execution_count": 2
        }
      ]
    },
    {
      "cell_type": "code",
      "source": [
        "conversation = \"\"\"\n",
        "Recovery Agent (RA): नमस्ते श्री कुमार, मैं एक्स वाई जेड फाइनेंस से बोल रहा हूं। आपके लोन के बारे में बात करनी थी।\n",
        "Borrower (B): हां, बोलिए। क्या बात है?\n",
        "RA: सर, आपका पिछले महीने का EMI अभी तक नहीं आया है। क्या कोई समस्या है?\n",
        "B: हां, थोड़ी दिक्कत है। मेरी नौकरी चली गई है और मैं नया काम ढूंढ रहा हूं।\n",
        "RA: ओह, यह तो बुरा हुआ। लेकिन सर, आपको समझना होगा कि लोन का भुगतान समय पर करना बहुत जरूरी है।\n",
        "B: मैं समझता हूं, लेकिन अभी मेरे पास पैसे नहीं हैं। क्या कुछ समय मिल सकता है?\n",
        "RA: हम समझते हैं आपकी स्थिति। क्या आप अगले हफ्ते तक कुछ भुगतान कर सकते हैं?\n",
        "B: मैं कोशिश करूंगा, लेकिन पूरा EMI नहीं दे पाऊंगा। क्या आधा भुगतान चलेगा?\n",
        "RA: ठीक है, आधा भुगतान अगले हफ्ते तक कर दीजिए। बाकी का क्या प्लान है आपका?\n",
        "B: मुझे उम्मीद है कि अगले महीने तक मुझे नया काम मिल जाएगा। तब मैं बाकी बकाया चुका दूंगा।\n",
        "RA: ठीक है। तो हम ऐसा करते हैं - आप अगले हफ्ते तक आधा EMI जमा कर दीजिए, और अगले महीने के 15 तारीख तक बाकी का भुगतान कर दीजिए। क्या यह आपको स्वीकार है?\n",
        "B: हां, यह ठीक रहेगा। मैं इस प्लान का पालन करने की पूरी कोशिश करूंगा।\n",
        "RA: बहुत अच्छा। मैं आपको एक SMS भेज रहा हूं जिसमें भुगतान की डिटेल्स होंगी। कृपया इसका पालन करें और समय पर भुगतान करें।\n",
        "B: ठीक है, धन्यवाद आपके समझने के लिए।\n",
        "RA: आपका स्वागत है। अगर कोई और सवाल हो तो मुझे बताइएगा। अलविदा।\n",
        "B: अलविदा।\n",
        "\"\"\""
      ],
      "metadata": {
        "id": "fAogqNqXqzWE"
      },
      "execution_count": 3,
      "outputs": []
    },
    {
      "cell_type": "code",
      "source": [
        "lines = conversation.split('\\n')\n",
        "\n",
        "# Extracting sentences spoken by the Recovery Agent and Borrower\n",
        "recovery_agent_sentences = []\n",
        "borrower_sentences = []\n",
        "\n",
        "for line in lines:\n",
        "    if \"RA:\" in line:\n",
        "        recovery_agent_sentences.append(line.split('RA:')[1].strip())\n",
        "    elif \"B:\" in line:\n",
        "        borrower_sentences.append(line.split('B:')[1].strip())\n"
      ],
      "metadata": {
        "id": "UDxnYjoAq6u9"
      },
      "execution_count": 4,
      "outputs": []
    },
    {
      "cell_type": "code",
      "source": [
        "sia = SentimentIntensityAnalyzer()\n",
        "\n",
        "def analyze_sentiment(sentences):\n",
        "    sentiments = [sia.polarity_scores(sentence) for sentence in sentences]\n",
        "    avg_sentiment = {\n",
        "        'neg': sum([sent['neg'] for sent in sentiments]) / len(sentiments),\n",
        "        'neu': sum([sent['neu'] for sent in sentiments]) / len(sentiments),\n",
        "        'pos': sum([sent['pos'] for sent in sentiments]) / len(sentiments),\n",
        "        'compound': sum([sent['compound'] for sent in sentiments]) / len(sentiments),\n",
        "    }\n",
        "    return avg_sentiment\n",
        "\n",
        "ra_sentiment = analyze_sentiment(recovery_agent_sentences)\n",
        "b_sentiment = analyze_sentiment(borrower_sentences)\n"
      ],
      "metadata": {
        "id": "ghNz-jhUq_Qo"
      },
      "execution_count": 5,
      "outputs": []
    },
    {
      "cell_type": "code",
      "source": [
        "summary = \"\"\"\n",
        "The recovery agent from XYZ Finance contacted Mr. Kumar regarding his overdue loan payment.\n",
        "Mr. Kumar explained that he lost his job and is searching for a new one, making it difficult to pay the EMI.\n",
        "The agent emphasized the importance of timely payments but agreed to accept half of the EMI by next week and the remaining amount by the 15th of the next month.\n",
        "Mr. Kumar agreed to this plan and the agent confirmed they would send payment details via SMS.\n",
        "\"\"\"\n",
        "\n",
        "action_items = \"\"\"\n",
        "1. Borrower (Mr. Kumar):\n",
        "   - Attempt to pay half of the EMI by next week.\n",
        "   - Plan to pay the remaining amount by the 15th of the next month.\n",
        "   - Look for a new job to stabilize finances.\n",
        "\n",
        "2. Recovery Agent:\n",
        "   - Send an SMS to Mr. Kumar with the payment details.\n",
        "   - Follow up with Mr. Kumar if payments are not received as agreed.\n",
        "\"\"\""
      ],
      "metadata": {
        "id": "REO9aTKkrCtl"
      },
      "execution_count": 6,
      "outputs": []
    },
    {
      "cell_type": "code",
      "source": [
        "print(\"Summary of the Conversation:\")\n",
        "print(summary)\n",
        "\n",
        "print(\"\\nKey Actions or Next Steps:\")\n",
        "print(action_items)\n",
        "\n",
        "print(\"\\nSentiment Analysis:\")\n",
        "print(\"Recovery Agent Sentiment:\", ra_sentiment)\n",
        "print(\"Borrower Sentiment:\", b_sentiment)"
      ],
      "metadata": {
        "colab": {
          "base_uri": "https://localhost:8080/"
        },
        "id": "vq2lOm6mrGAX",
        "outputId": "46b8a638-6e4f-4c3b-be50-311a4bd0ca0c"
      },
      "execution_count": 7,
      "outputs": [
        {
          "output_type": "stream",
          "name": "stdout",
          "text": [
            "Summary of the Conversation:\n",
            "\n",
            "The recovery agent from XYZ Finance contacted Mr. Kumar regarding his overdue loan payment. \n",
            "Mr. Kumar explained that he lost his job and is searching for a new one, making it difficult to pay the EMI. \n",
            "The agent emphasized the importance of timely payments but agreed to accept half of the EMI by next week and the remaining amount by the 15th of the next month. \n",
            "Mr. Kumar agreed to this plan and the agent confirmed they would send payment details via SMS.\n",
            "\n",
            "\n",
            "Key Actions or Next Steps:\n",
            "\n",
            "1. Borrower (Mr. Kumar):\n",
            "   - Attempt to pay half of the EMI by next week.\n",
            "   - Plan to pay the remaining amount by the 15th of the next month.\n",
            "   - Look for a new job to stabilize finances.\n",
            "\n",
            "2. Recovery Agent:\n",
            "   - Send an SMS to Mr. Kumar with the payment details.\n",
            "   - Follow up with Mr. Kumar if payments are not received as agreed.\n",
            "\n",
            "\n",
            "Sentiment Analysis:\n",
            "Recovery Agent Sentiment: {'neg': 0.0, 'neu': 1.0, 'pos': 0.0, 'compound': 0.0}\n",
            "Borrower Sentiment: {'neg': 0.0, 'neu': 1.0, 'pos': 0.0, 'compound': 0.0}\n"
          ]
        }
      ]
    }
  ]
}